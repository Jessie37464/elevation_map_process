{
 "cells": [
  {
   "cell_type": "code",
   "execution_count": 1,
   "metadata": {},
   "outputs": [
    {
     "ename": "ModuleNotFoundError",
     "evalue": "No module named 'geoplot'",
     "output_type": "error",
     "traceback": [
      "\u001b[0;31m---------------------------------------------------------------------------\u001b[0m",
      "\u001b[0;31mModuleNotFoundError\u001b[0m                       Traceback (most recent call last)",
      "\u001b[0;32m<ipython-input-1-d3af42d03c1a>\u001b[0m in \u001b[0;36m<module>\u001b[0;34m\u001b[0m\n\u001b[1;32m      1\u001b[0m \u001b[0;32mimport\u001b[0m \u001b[0mgeopandas\u001b[0m \u001b[0;32mas\u001b[0m \u001b[0mgpd\u001b[0m\u001b[0;34m\u001b[0m\u001b[0;34m\u001b[0m\u001b[0m\n\u001b[0;32m----> 2\u001b[0;31m \u001b[0;32mimport\u001b[0m \u001b[0mgeoplot\u001b[0m \u001b[0;32mas\u001b[0m \u001b[0mgplt\u001b[0m\u001b[0;34m\u001b[0m\u001b[0;34m\u001b[0m\u001b[0m\n\u001b[0m\u001b[1;32m      3\u001b[0m \u001b[0;32mimport\u001b[0m \u001b[0mgeoplot\u001b[0m\u001b[0;34m.\u001b[0m\u001b[0mcrs\u001b[0m \u001b[0;32mas\u001b[0m \u001b[0mgcrs\u001b[0m\u001b[0;34m\u001b[0m\u001b[0;34m\u001b[0m\u001b[0m\n\u001b[1;32m      4\u001b[0m \u001b[0;32mimport\u001b[0m \u001b[0mmatplotlib\u001b[0m\u001b[0;34m.\u001b[0m\u001b[0mpyplot\u001b[0m \u001b[0;32mas\u001b[0m \u001b[0mplt\u001b[0m\u001b[0;34m\u001b[0m\u001b[0;34m\u001b[0m\u001b[0m\n\u001b[1;32m      5\u001b[0m \u001b[0;34m\u001b[0m\u001b[0m\n",
      "\u001b[0;31mModuleNotFoundError\u001b[0m: No module named 'geoplot'"
     ]
    }
   ],
   "source": [
    "import geopandas as gpd\n",
    "import geoplot as gplt\n",
    "import geoplot.crs as gcrs\n",
    "import matplotlib.pyplot as plt\n",
    "\n",
    "# load the data\n",
    "nyc_boroughs = gpd.read_file(gplt.datasets.get_path('nyc_boroughs'))\n",
    "nyc_fatal_collisions = gpd.read_file(gplt.datasets.get_path('nyc_fatal_collisions'))\n",
    "nyc_injurious_collisions = gpd.read_file(gplt.datasets.get_path('nyc_injurious_collisions'))\n",
    "\n",
    "\n",
    "fig = plt.figure(figsize=(10,5))\n",
    "proj = projection=gcrs.AlbersEqualArea(central_latitude=40.7128, central_longitude=-74.0059)\n",
    "ax1 = plt.subplot(121, projection=proj)\n",
    "ax2 = plt.subplot(122, projection=proj)\n",
    "\n",
    "ax1 = gplt.pointplot(\n",
    "    nyc_fatal_collisions, projection=proj,\n",
    "    hue='BOROUGH', cmap='Set1',\n",
    "    edgecolor='white', linewidth=0.5,\n",
    "    scale='NUMBER OF PERSONS KILLED', limits=(8, 24),\n",
    "    legend=True, legend_var='scale',\n",
    "    legend_kwargs={'loc': 'upper left', 'markeredgecolor': 'black'},\n",
    "    legend_values=[2, 1], legend_labels=['2 Fatalities', '1 Fatality'],\n",
    "    ax=ax1\n",
    ")\n",
    "gplt.polyplot(nyc_boroughs, ax=ax1)\n",
    "ax1.set_title(\"Fatal Crashes in New York City, 2016\")\n",
    "\n",
    "gplt.pointplot(\n",
    "    nyc_injurious_collisions, projection=proj,\n",
    "    hue='BOROUGH', cmap='Set1',\n",
    "    edgecolor='white', linewidth=0.5,\n",
    "    scale='NUMBER OF PERSONS INJURED', limits=(4, 20),\n",
    "    legend=True, legend_var='scale',\n",
    "    legend_kwargs={'loc': 'upper left', 'markeredgecolor': 'black'},\n",
    "    legend_values=[20, 15, 10, 5, 1],\n",
    "    legend_labels=['20 Injuries', '15 Injuries', '10 Injuries', '5 Injuries', '1 Injury'],\n",
    "    ax=ax2\n",
    ")\n",
    "gplt.polyplot(nyc_boroughs, ax=ax2, projection=proj)\n",
    "ax2.set_title(\"Injurious Crashes in New York City, 2016\")\n",
    "\n",
    "plt.savefig(\"nyc-collisions-map.png\", bbox_inches='tight', pad_inches=0)"
   ]
  },
  {
   "cell_type": "code",
   "execution_count": 4,
   "metadata": {},
   "outputs": [
    {
     "name": "stdout",
     "output_type": "stream",
     "text": [
      "Collecting setuptools\n",
      "  Downloading setuptools-54.1.1-py3-none-any.whl (784 kB)\n",
      "\u001b[K     |████████████████████████████████| 784 kB 320 kB/s eta 0:00:01\n",
      "\u001b[?25hInstalling collected packages: setuptools\n",
      "  Attempting uninstall: setuptools\n",
      "    Found existing installation: setuptools 50.3.1.post20201107\n",
      "    Uninstalling setuptools-50.3.1.post20201107:\n",
      "      Successfully uninstalled setuptools-50.3.1.post20201107\n",
      "Successfully installed setuptools-54.1.1\n"
     ]
    }
   ],
   "source": [
    "!pip install --upgrade setuptools"
   ]
  },
  {
   "cell_type": "code",
   "execution_count": null,
   "metadata": {},
   "outputs": [],
   "source": []
  }
 ],
 "metadata": {
  "kernelspec": {
   "display_name": "Python 3",
   "language": "python",
   "name": "python3"
  },
  "language_info": {
   "codemirror_mode": {
    "name": "ipython",
    "version": 3
   },
   "file_extension": ".py",
   "mimetype": "text/x-python",
   "name": "python",
   "nbconvert_exporter": "python",
   "pygments_lexer": "ipython3",
   "version": "3.8.5"
  }
 },
 "nbformat": 4,
 "nbformat_minor": 4
}
